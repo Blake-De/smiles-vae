{
 "cells": [
  {
   "cell_type": "markdown",
   "id": "3c01830e",
   "metadata": {},
   "source": [
    "# Note\n",
    "* The initial data preprocessing code (e.g., SMILES tokenization and .npy generation) was provided as part of the course materials. I used it to filter the dataset and create a smaller subset for training. However, the creation of the train.pkl that was used for evaluation was my own work. "
   ]
  },
  {
   "cell_type": "markdown",
   "id": "19d92f01",
   "metadata": {},
   "source": [
    "# Imports"
   ]
  },
  {
   "cell_type": "code",
   "execution_count": null,
   "id": "8a084333",
   "metadata": {},
   "outputs": [],
   "source": [
    "import gzip\n",
    "import numpy as np\n",
    "import pickle"
   ]
  },
  {
   "cell_type": "markdown",
   "id": "a730ebe2",
   "metadata": {},
   "source": [
    "# Lang class"
   ]
  },
  {
   "cell_type": "code",
   "execution_count": null,
   "id": "6ae90041",
   "metadata": {},
   "outputs": [],
   "source": [
    "class Lang:\n",
    "    '''Predefined mapping from characters to indices for our\n",
    "    reduced alphabet of SMILES with methods for converting.\n",
    "    You must use this mapping.'''\n",
    "\n",
    "    def __init__(self):\n",
    "        # $ is the end of sequence token\n",
    "        # ^ is the start of sequence token, which should never be generated\n",
    "        self.chartoindex = {'$': 0,'^': 1, 'C': 2, '(': 3,\n",
    "                '=': 4, 'O': 5, ')': 6, '[': 7, '-': 8, ']': 9,\n",
    "                'N': 10, '+': 11, '1': 12, 'P': 13, '2': 14,'3': 15,\n",
    "                '4': 16, 'S': 17, '#': 18, '5': 19,'6': 20, '7': 21,\n",
    "                'H': 22, 'I': 23, 'B': 24, 'F': 25, '8': 26, '9': 27\n",
    "                }\n",
    "        self.indextochar = {0: '$', 1: '^', 2: 'C', 3: '(',\n",
    "                4: '=', 5: 'O', 6: ')', 7: '[', 8: '-', 9: ']',\n",
    "                10: 'N', 11: '+', 12: '1', 13: 'P', 14: '2', 15: '3',\n",
    "                16: '4', 17: 'S', 18: '#', 19: '5', 20: '6', 21: '7',\n",
    "                22: 'H', 23: 'I', 24: 'B', 25: 'F', 26: '8', 27: '9'\n",
    "                }\n",
    "        self.nchars = 28\n",
    "\n",
    "    def indexesFromSMILES(self, smiles_str):\n",
    "        '''convert smiles string into numpy array of integers'''\n",
    "        index_list = [self.chartoindex[char] for char in smiles_str]\n",
    "        index_list.append(self.chartoindex[\"$\"])\n",
    "        return np.array(index_list, dtype=np.uint8)\n",
    "\n",
    "    def indexToSmiles(self,indices):\n",
    "        '''convert list of indices into a smiles string'''\n",
    "        smiles_str = ''.join(list(map(lambda x: self.indextochar[int(x)] if x != 0.0 else 'E',indices)))\n",
    "        return smiles_str.split('E')[0] #Only want values before output $ end of sequence token"
   ]
  },
  {
   "cell_type": "markdown",
   "id": "fed695f0",
   "metadata": {},
   "source": [
    "\n",
    "# SMILES Filtering: Count and Select Short Molecules for Training"
   ]
  },
  {
   "cell_type": "code",
   "execution_count": null,
   "id": "5a169a76",
   "metadata": {},
   "outputs": [],
   "source": [
    "max_length = 20\n",
    "language = Lang()\n",
    "data_path = 'training_zip_file'"
   ]
  },
  {
   "cell_type": "code",
   "execution_count": null,
   "id": "b3e06312",
   "metadata": {},
   "outputs": [],
   "source": [
    "N = 0\n",
    "tot_N = 0\n",
    "\n",
    "with gzip.open(data_path,'rt') as f:\n",
    "    # N = sum(1 for line in f if len(line.rstrip()) < 50) # create a smaller dataset for faster training\n",
    "\n",
    "    for line in f:\n",
    "        tot_N += 1 # only for sanity check\n",
    "        if len(line.rstrip()) < 20:\n",
    "            N += 1 # create a smaller dataset for faster training\n",
    "\n",
    "print(tot_N)\n",
    "print(N)"
   ]
  },
  {
   "cell_type": "markdown",
   "id": "81661dc7",
   "metadata": {},
   "source": [
    "## Create npy"
   ]
  },
  {
   "cell_type": "code",
   "execution_count": null,
   "id": "0cf5d76e",
   "metadata": {},
   "outputs": [],
   "source": [
    "examples = np.zeros((N,max_length),dtype=np.uint8)\n",
    "with gzip.open(data_path,'rt') as f:\n",
    "    idx = 0\n",
    "    for i,line in enumerate(f):\n",
    "        example = line.rstrip()\n",
    "\n",
    "        if len(example) < 10:\n",
    "            ex = language.indexesFromSMILES(example)\n",
    "            examples[idx][:len(ex)] = ex\n",
    "            idx += 1\n",
    "\n",
    "print('Preprocessed data shape:',examples.shape)"
   ]
  },
  {
   "cell_type": "code",
   "execution_count": null,
   "id": "bffa97e1",
   "metadata": {},
   "outputs": [],
   "source": [
    "np.save('train_data.npy',examples)"
   ]
  },
  {
   "cell_type": "markdown",
   "id": "3e667b1c",
   "metadata": {},
   "source": [
    "# Create a pickle"
   ]
  },
  {
   "cell_type": "code",
   "execution_count": null,
   "id": "9896d99c",
   "metadata": {},
   "outputs": [],
   "source": [
    "smiles_set = set()\n",
    "\n",
    "# Read SMILES from data file.\n",
    "with gzip.open(data_path, 'rt') as f:\n",
    "    for line in f:\n",
    "        smile = line.strip()\n",
    "        if smile:\n",
    "            smiles_set.add(smile)\n",
    "\n",
    "# Save to a pickle\n",
    "with open('train.pkl', 'wb') as f:\n",
    "    pickle.dump(smiles_set, f)"
   ]
  },
  {
   "cell_type": "code",
   "execution_count": null,
   "id": "83244861",
   "metadata": {},
   "outputs": [],
   "source": []
  }
 ],
 "metadata": {
  "kernelspec": {
   "display_name": "Python [conda env:.conda-pytorch]",
   "language": "python",
   "name": "conda-env-.conda-pytorch-py"
  },
  "language_info": {
   "codemirror_mode": {
    "name": "ipython",
    "version": 3
   },
   "file_extension": ".py",
   "mimetype": "text/x-python",
   "name": "python",
   "nbconvert_exporter": "python",
   "pygments_lexer": "ipython3",
   "version": "3.10.13"
  }
 },
 "nbformat": 4,
 "nbformat_minor": 5
}
